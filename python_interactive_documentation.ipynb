{
 "cells": [
  {
   "cell_type": "markdown",
   "metadata": {},
   "source": [
    "# Using scanCONTROL with Python 3\n",
    "\n",
    "This notebook shows how to use the MICRO-EPSILON scanCONTROL laser line triangulators with in a Python environment. The Python version used to write the DLL wrapper and the examples is 3.5.\n",
    "\n",
    "Let's get into it:\n",
    "The LLT.dll is the main library to use the scanner in a Windows system environment. This C library is wrapped via ctypes in the module pyllt. To interface the DLL in our application we have to declare C variables, which is possible with C types.\n",
    "\n",
    "So we import the modules pyllt and ctypes:"
   ]
  },
  {
   "cell_type": "code",
   "execution_count": 1,
   "metadata": {
    "collapsed": false
   },
   "outputs": [],
   "source": [
    "import pyllt as llt\n",
    "import ctypes as ct"
   ]
  },
  {
   "cell_type": "markdown",
   "metadata": {
    "collapsed": true
   },
   "source": [
    "The DLL internally works with device handles for each scanner instance. For every scanner a seperate handle has to be created. For this use the function CreateLLTDevice(TInterfaceType interface). In our case the scanner is connected via Ethernet."
   ]
  },
  {
   "cell_type": "code",
   "execution_count": 2,
   "metadata": {
    "collapsed": false
   },
   "outputs": [],
   "source": [
    "hLLT = llt.create_llt_device(llt.TInterfaceType.INTF_TYPE_ETHERNET)"
   ]
  },
  {
   "cell_type": "markdown",
   "metadata": {
    "collapsed": true
   },
   "source": [
    "Now we can search the interface for devices. In the case of an Ethernet interface, the IP addresses are written into the array which was given to the function. Then we can assign a specific interface to a certain handle."
   ]
  },
  {
   "cell_type": "code",
   "execution_count": 3,
   "metadata": {
    "collapsed": false
   },
   "outputs": [
    {
     "data": {
      "text/plain": [
       "1"
      ]
     },
     "execution_count": 3,
     "metadata": {},
     "output_type": "execute_result"
    }
   ],
   "source": [
    "available_interfaces = (ct.c_uint*6)()\n",
    "\n",
    "llt.get_device_interfaces_fast(hLLT, available_interfaces, len(available_interfaces))\n",
    "llt.set_device_interface(hLLT, available_interfaces[0], 0)"
   ]
  },
  {
   "cell_type": "markdown",
   "metadata": {},
   "source": [
    "The time has come to connect to the sensor!"
   ]
  },
  {
   "cell_type": "code",
   "execution_count": 4,
   "metadata": {
    "collapsed": false
   },
   "outputs": [
    {
     "data": {
      "text/plain": [
       "1"
      ]
     },
     "execution_count": 4,
     "metadata": {},
     "output_type": "execute_result"
    }
   ],
   "source": [
    "llt.connect(hLLT)"
   ]
  },
  {
   "cell_type": "markdown",
   "metadata": {},
   "source": [
    "Let's see which sensor we've got here."
   ]
  },
  {
   "cell_type": "code",
   "execution_count": 5,
   "metadata": {
    "collapsed": false
   },
   "outputs": [
    {
     "data": {
      "text/plain": [
       "1"
      ]
     },
     "execution_count": 5,
     "metadata": {},
     "output_type": "execute_result"
    }
   ],
   "source": [
    "scanner_type = ct.c_int(0)\n",
    "\n",
    "llt.get_llt_type(hLLT, ct.byref(scanner_type))"
   ]
  },
  {
   "cell_type": "markdown",
   "metadata": {},
   "source": [
    "Check which resolutions are supported and set the highest one."
   ]
  },
  {
   "cell_type": "code",
   "execution_count": 6,
   "metadata": {
    "collapsed": false
   },
   "outputs": [
    {
     "data": {
      "text/plain": [
       "1"
      ]
     },
     "execution_count": 6,
     "metadata": {},
     "output_type": "execute_result"
    }
   ],
   "source": [
    "available_resolutions = (ct.c_uint*4)()\n",
    "\n",
    "llt.get_resolutions(hLLT, available_resolutions, len(available_resolutions))\n",
    "\n",
    "resolution = available_resolutions[0]\n",
    "\n",
    "llt.set_resolution(hLLT, resolution)"
   ]
  },
  {
   "cell_type": "markdown",
   "metadata": {},
   "source": [
    "Set the profile configuration to the stan"
   ]
  },
  {
   "cell_type": "code",
   "execution_count": 7,
   "metadata": {
    "collapsed": false
   },
   "outputs": [
    {
     "data": {
      "text/plain": [
       "1"
      ]
     },
     "execution_count": 7,
     "metadata": {},
     "output_type": "execute_result"
    }
   ],
   "source": [
    "llt.set_profile_config(hLLT, llt.TProfileConfig.PROFILE)"
   ]
  },
  {
   "cell_type": "markdown",
   "metadata": {},
   "source": [
    "Start transfering profiles"
   ]
  },
  {
   "cell_type": "code",
   "execution_count": 8,
   "metadata": {
    "collapsed": false
   },
   "outputs": [
    {
     "data": {
      "text/plain": [
       "65536"
      ]
     },
     "execution_count": 8,
     "metadata": {},
     "output_type": "execute_result"
    }
   ],
   "source": [
    "llt.transfer_profiles(hLLT, llt.TTransferProfileType.NORMAL_TRANSFER, 1)"
   ]
  },
  {
   "cell_type": "markdown",
   "metadata": {},
   "source": [
    "Allocate correctly sized buffer array and fetch the lastest received profile raw data from the internal receiving buffer."
   ]
  },
  {
   "cell_type": "code",
   "execution_count": 9,
   "metadata": {
    "collapsed": false
   },
   "outputs": [
    {
     "data": {
      "text/plain": [
       "65536"
      ]
     },
     "execution_count": 9,
     "metadata": {},
     "output_type": "execute_result"
    }
   ],
   "source": [
    "profile_buffer = (ct.c_ubyte*(resolution*64))()\n",
    "lost_profiles = ct.c_int()\n",
    "\n",
    "llt.get_actual_profile(hLLT, profile_buffer, len(profile_buffer), llt.TProfileConfig.PROFILE, ct.byref(lost_profiles))"
   ]
  },
  {
   "cell_type": "markdown",
   "metadata": {},
   "source": [
    "Stop transfering profiles."
   ]
  },
  {
   "cell_type": "code",
   "execution_count": 10,
   "metadata": {
    "collapsed": false
   },
   "outputs": [
    {
     "data": {
      "text/plain": [
       "1"
      ]
     },
     "execution_count": 10,
     "metadata": {},
     "output_type": "execute_result"
    }
   ],
   "source": [
    "# llt.transfer_profiles(hLLT, TTransferProfileType.NORMAL_TRANSFER, 0)\n",
    "llt.transfer_profiles(hLLT, 0, 0)"
   ]
  },
  {
   "cell_type": "code",
   "execution_count": 11,
   "metadata": {
    "collapsed": false
   },
   "outputs": [
    {
     "data": {
      "text/plain": [
       "6656"
      ]
     },
     "execution_count": 11,
     "metadata": {},
     "output_type": "execute_result"
    }
   ],
   "source": [
    "x = (ct.c_double * resolution)()\n",
    "z = (ct.c_double * resolution)()\n",
    "intensities = (ct.c_ushort * resolution)()\n",
    "\n",
    "snull = ct.POINTER(ct.c_ushort)()\n",
    "inull = ct.POINTER(ct.c_uint)()\n",
    "\n",
    "llt.convert_profile_2_values(hLLT, profile_buffer, resolution, llt.TProfileConfig.PROFILE, scanner_type, 0, 1,\n",
    "                                    snull, intensities, snull, x, z, inull, inull)"
   ]
  },
  {
   "cell_type": "markdown",
   "metadata": {},
   "source": [
    "Disconnect the sensor from the application."
   ]
  },
  {
   "cell_type": "code",
   "execution_count": 12,
   "metadata": {
    "collapsed": false
   },
   "outputs": [
    {
     "data": {
      "text/plain": [
       "1"
      ]
     },
     "execution_count": 12,
     "metadata": {},
     "output_type": "execute_result"
    }
   ],
   "source": [
    "llt.disconnect(hLLT)"
   ]
  },
  {
   "cell_type": "markdown",
   "metadata": {},
   "source": [
    "Plot profile and intensities of received profile."
   ]
  },
  {
   "cell_type": "code",
   "execution_count": 14,
   "metadata": {
    "collapsed": false
   },
   "outputs": [
    {
     "data": {
      "image/png": "[encoded data removed]",
      "text/plain": [
       "<Figure size 640x480 with 2 Axes>"
      ]
     },
     "metadata": {},
     "output_type": "display_data"
    }
   ],
   "source": [
    "%matplotlib inline\n",
    "from matplotlib import pyplot as plt\n",
    "\n",
    "plt.figure(facecolor='white')\n",
    "plt.subplot(211)\n",
    "plt.grid()\n",
    "plt.ylabel('z')\n",
    "plt.xlim(-60, 60)\n",
    "plt.ylim(25, 135)\n",
    "plt.plot(x, z, 'g.', label=\"z\", lw=1)\n",
    "plt.subplot(212)\n",
    "plt.grid()\n",
    "plt.xlabel('x')\n",
    "plt.ylabel('intensities')\n",
    "plt.xlim(-60, 60)\n",
    "plt.ylim(0, 1200)\n",
    "plt.plot(x, intensities, 'r.', label=\"intensities\", lw=1)\n",
    "plt.show()"
   ]
  },
  {
   "cell_type": "markdown",
   "metadata": {},
   "source": [
    "FIN!"
   ]
  }
 ],
 "metadata": {
  "kernelspec": {
   "display_name": "Python 3",
   "language": "python",
   "name": "python3"
  },
  "language_info": {
   "codemirror_mode": {
    "name": "ipython",
    "version": 3
   },
   "file_extension": ".py",
   "mimetype": "text/x-python",
   "name": "python",
   "nbconvert_exporter": "python",
   "pygments_lexer": "ipython3",
   "version": "3.9.18"
  }
 },
 "nbformat": 4,
 "nbformat_minor": 2
}
